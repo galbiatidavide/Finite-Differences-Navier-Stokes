{
 "cells": [
  {
   "cell_type": "code",
   "execution_count": null,
   "metadata": {},
   "outputs": [],
   "source": [
    "import vtk\n",
    "\n",
    "def convert_pvd_to_stl(pvd_filename, stl_filename):\n",
    "    # Read the PVD file\n",
    "    reader = vtk.vtkXMLPolyDataReader()\n",
    "    reader.SetFileName(pvd_filename)\n",
    "    reader.Update()  # Update to read the data\n",
    "\n",
    "    # Get the polydata from the reader\n",
    "    polydata = reader.GetOutput()\n",
    "\n",
    "    # Write the polydata to an STL file\n",
    "    stl_writer = vtk.vtkSTLWriter()\n",
    "    stl_writer.SetFileName(stl_filename)\n",
    "    stl_writer.SetInputData(polydata)\n",
    "    stl_writer.Write()\n",
    "\n",
    "    print(f\"Conversion complete: {pvd_filename} -> {stl_filename}\")\n",
    "\n",
    "# Example usage\n",
    "pvd_filename = \"prova.pvd\"  # Replace with your PVD file\n",
    "stl_filename = \"output.stl\"  # Replace with your desired output STL file\n",
    "\n",
    "convert_pvd_to_stl(pvd_filename, stl_filename)\n"
   ]
  },
  {
   "cell_type": "code",
   "execution_count": null,
   "metadata": {},
   "outputs": [],
   "source": [
    "# Example usage:\n",
    "# Replace 'input.stl' with the path to your STL file and 'output.vtp' for the desired VTP output filename\n",
    "stl_filename = \"/home/dave/Downloads/surface_to_ext.stl\"  # Path to your STL file\n",
    "vtp_filename = \"output.vtp\"  # Desired output VTP file path\n",
    "\n",
    "stl_to_vtp(stl_filename, vtp_filename)"
   ]
  },
  {
   "cell_type": "code",
   "execution_count": null,
   "metadata": {},
   "outputs": [],
   "source": [
    "import vtk\n",
    "\n",
    "def convert_stl_to_vtp(stl_filename, vtp_filename):\n",
    "    # Read the STL file\n",
    "    reader = vtk.vtkSTLReader()\n",
    "    reader.SetFileName(stl_filename)\n",
    "    reader.Update()  # Update to read the data\n",
    "\n",
    "    # Get the polydata from the reader\n",
    "    polydata = reader.GetOutput()\n",
    "\n",
    "    # Write the polydata to a VTP file\n",
    "    vtp_writer = vtk.vtkXMLPolyDataWriter()\n",
    "    vtp_writer.SetFileName(vtp_filename)\n",
    "    vtp_writer.SetInputData(polydata)\n",
    "    vtp_writer.Write()\n",
    "\n",
    "    print(f\"Conversion complete: {stl_filename} -> {vtp_filename}\")\n",
    "\n",
    "# Example usage\n",
    "stl_filename = \"prova.stl\"  # Replace with your STL file\n",
    "vtp_filename = \"output.vtp\"  # Replace with your desired output VTP file\n",
    "\n",
    "convert_stl_to_vtp(stl_filename, vtp_filename)\n"
   ]
  },
  {
   "cell_type": "code",
   "execution_count": 15,
   "metadata": {},
   "outputs": [
    {
     "name": "stderr",
     "output_type": "stream",
     "text": [
      "/tmp/ipykernel_39281/4005241157.py:15: DeprecationWarning: Starting with ImageIO v3 the behavior of this function will switch to that of iio.v3.imread. To keep the current behavior (and make this warning disappear) use `import imageio.v2 as imageio` or call `imageio.v2.imread` directly.\n",
      "  image = imageio.imread(frame)\n"
     ]
    },
    {
     "name": "stdout",
     "output_type": "stream",
     "text": [
      "GIF salvata come /media/dave/dave_data/gifs/parabolic_mu_10.gif\n"
     ]
    }
   ],
   "source": [
    "\n",
    "import imageio\n",
    "import os\n",
    "\n",
    "# Cartella contenente i frame\n",
    "frames_directory = \"/media/dave/dave_data/parabolic_mu_10_h_32_dt_1e-4/parabolic_mu_10\"\n",
    "\n",
    "output_gif = \"/media/dave/dave_data/gifs/parabolic_mu_10.gif\"\n",
    "\n",
    "# Carica tutti i file immagine dalla cartella e ordina per nome\n",
    "frames = sorted([os.path.join(frames_directory, f) for f in os.listdir(frames_directory) if f.endswith(\".png\")])\n",
    "\n",
    "# Legge i frame e crea la GIF\n",
    "with imageio.get_writer(output_gif, mode='I', duration=0.1) as writer:  # duration: durata di ogni frame in secondi\n",
    "    for frame in frames:\n",
    "        image = imageio.imread(frame)\n",
    "        writer.append_data(image)\n",
    "\n",
    "print(f\"GIF salvata come {output_gif}\")\n"
   ]
  }
 ],
 "metadata": {
  "kernelspec": {
   "display_name": "PACS-carotid",
   "language": "python",
   "name": "python3"
  },
  "language_info": {
   "codemirror_mode": {
    "name": "ipython",
    "version": 3
   },
   "file_extension": ".py",
   "mimetype": "text/x-python",
   "name": "python",
   "nbconvert_exporter": "python",
   "pygments_lexer": "ipython3",
   "version": "3.10.12"
  }
 },
 "nbformat": 4,
 "nbformat_minor": 2
}
